{
 "cells": [
  {
   "cell_type": "markdown",
   "id": "2c3a1a96",
   "metadata": {},
   "source": [
    "# Calculate POT\n",
    "\n",
    "Adapting from Marina's POT code"
   ]
  },
  {
   "cell_type": "markdown",
   "id": "dee737df",
   "metadata": {},
   "source": [
    "This code teaches you how to calculate the POT for a given sample. There is an option of applying cuts on the sample before calculating the POT, which is important for beam-on, for example, as we are interested in the POT after applying the good-quality check and in a specific neutrino mode (for run 1 it means to select the runs < 6748). So make sure you are applying all the necessary cuts before calculating the POT, as the POT is used as an input for the analysis.\n",
    "\n",
    "Proper wiki link to running POT calculation script (zarko's script): https://cdcvs.fnal.gov/redmine/projects/uboone-physics-analysis/wiki/NuMI_Documentation#How-to-do-NuMI-POT-counting"
   ]
  },
  {
   "cell_type": "code",
   "execution_count": 1,
   "id": "206740c9",
   "metadata": {},
   "outputs": [
    {
     "name": "stderr",
     "output_type": "stream",
     "text": [
      "/var/folders/61/z_mpdl8x31dcjrks2m91kynw0000gp/T/ipykernel_78188/567715129.py:1: DeprecationWarning: Importing display from IPython.core.display is deprecated since IPython 7.14, please import from IPython.display\n",
      "  from IPython.core.display import display, HTML # fix window size\n"
     ]
    },
    {
     "data": {
      "text/html": [
       "<style>.container {width:100% !important;}</style>"
      ],
      "text/plain": [
       "<IPython.core.display.HTML object>"
      ]
     },
     "metadata": {},
     "output_type": "display_data"
    }
   ],
   "source": [
    "from IPython.core.display import display, HTML # fix window size\n",
    "display(HTML('<style>.container {width:100% !important;}</style>'))\n",
    "import pandas as pd\n",
    "import uproot3 as uproot\n",
    "import numpy as np"
   ]
  },
  {
   "cell_type": "code",
   "execution_count": 2,
   "id": "81eefa26",
   "metadata": {},
   "outputs": [],
   "source": [
    "def gen_run_subrun_list(input_file, name_list):\n",
    "    # Get useful variables\n",
    "    T_eval = uproot.open(input_file)['wcpselection/T_eval']\n",
    "    df_eval = T_eval.pandas.df(['run', 'subrun'], flatten=False)\n",
    "    df_eval.drop_duplicates(inplace=True) \n",
    "    np.savetxt(name_list, df_eval.values, fmt='%d')\n",
    "    \n",
    "# --- keep only good-quality events\n",
    "def apply_good_quality_check(df_in, file):\n",
    "    # Create dataframe with the good-quality runs you printed above\n",
    "    df_good_runs = pd.read_csv(file, sep=\", \", header=None, engine='python')\n",
    "    df_good_runs = df_good_runs.T # transpose so it's a column dataframe\n",
    "    df_good_runs.rename(columns={0:'run'}, inplace=True) # rename column to match with the one below\n",
    "    \n",
    "    # apply the cut\n",
    "    df = pd.merge(df_in, df_good_runs, how='left', indicator=True)\n",
    "    df_good = df[df._merge=='both'] # good-quality runs in input sample\n",
    "    df_bad = df[df._merge!='both'] # bad-quality runs in input sample\n",
    "    \n",
    "    # uncomment if you want to select GOOD-QUALITY events\n",
    "    df_final = df_good.drop(columns=\"_merge\") # remove column \"merge\" only used for distinguishin good/bad\n",
    "    df_final.drop_duplicates(inplace=True) # remove duplicates\n",
    "    \n",
    "    bad_quality = False # false=keep good-quality, true=keep bad-quality\n",
    "    if(bad_quality):\n",
    "        df_final = df_bad.drop(columns=\"_merge\")\n",
    "        df_final.drop_duplicates(inplace=True)\n",
    "    \n",
    "    return df_final"
   ]
  },
  {
   "cell_type": "markdown",
   "id": "2d1b1736",
   "metadata": {},
   "source": [
    "# Run 3 Beam-On\n",
    "\n",
    "This part is necessary for beam-on only. As we want to apply the good-quality check, we need the list of good-quality runs that will be used as a filter to compare to the runs present in the sample and keep only the good-quality ones. This part of the code you have to do manually on the terminal. First, create all the necessary tickets to run samweb commands:\n",
    "\n",
    "> /cvmfs/uboone.opensciencegrid.org/bin/shell_apptainer.sh <br />\n",
    "> source /cvmfs/uboone.opensciencegrid.org/products/setup_uboone.sh <br />\n",
    "> setup uboonecode v09_32_00 -q e20:prof <br />\n",
    "> setup sam_web_client <br />\n",
    "> voms-proxy-init -noregen -rfc -voms fermilab:/fermilab/uboone/Role=Analysis <br />\n",
    "> kx509 <br />\n",
    "\n",
    "Which can quickly be ran as:\n",
    "\n",
    "> cd /exp/uboone/app/users/wwang/POT_check <br />\n",
    "> source setup_shell.sh <br />\n",
    "> source setup_samweb.sh <br />\n",
    "\n",
    "<!-- Then, run the samweb command that will print the list of run/subrun for the good-quality ones:\n",
    "\n",
    "> cd /uboone/app/users/mguzzo/antinue <br />\n",
    "> samweb describe-definition goodruns_mcc9_run1_high_lifetime > calculate_pot_run1_beamon_goodquality.list\n",
    "\n",
    "Unfortunately the list generated above is not in the correct format, so let's work on this so it is in the format that the code below needs it to be. You have to do a few things:\n",
    "- ( 1 ) delete the header of the file, everything that is not run numbers\n",
    "- ( 2 ) manually remove all the new lines and make it into a single line list\n",
    "- ( 3 ) make sure all run numbers have \", \" in front of it\n",
    "\n",
    "Once you're done with the steps above, you'll have a run_list_run1_beamon_original.list in the correct format to be used by the code below: -->"
   ]
  },
  {
   "cell_type": "code",
   "execution_count": 3,
   "id": "b6d8b84f",
   "metadata": {},
   "outputs": [],
   "source": [
    "# ===================== #\n",
    "#   INPUT INFORMATION   #\n",
    "# ===================== #\n",
    "\n",
    "# you need:\n",
    "# 1) the good-quality run list generated above (samdef: goodruns_mcc9_run1_high_lifetime)\n",
    "# 2) the checkout file\n",
    "\n",
    "inFile = './ROOT_files/checkout_data_numi_run3_RHC.root'\n",
    "\n",
    "# ======================== #\n",
    "#   POT OF ENTIRE SAMPLE   #\n",
    "# ======================== #\n",
    "\n",
    "# save the original run/subrun list, without applying any cut\n",
    "T_eval = uproot.open(inFile)['wcpselection/T_eval']\n",
    "df_eval = T_eval.pandas.df(['run', 'subrun'], flatten=False)\n",
    "# df_eval.drop_duplicates(inplace=True) \n",
    "#np.savetxt(\"/uboone/app/users/mguzzo/antinue/run_subrun_list_run1_beamon_original.list\", df_eval.values, fmt='%d')\n",
    "\n",
    "# ======================== #\n",
    "#   APPLY CUTS ON SAMPLE   #\n",
    "# ======================== #\n",
    "\n",
    "#df_filtered = apply_good_quality_check(df_eval, 'goodruns_mcc9_run3_hardcoded.list')\n",
    "#np.savetxt(\"/uboone/app/users/mguzzo/antinue/run_subrun_list_run1_beamon_filtered.list\", df_filtered.values, fmt='%d') # save list of good runs\n",
    "\n",
    "# --- select before/after trigger change.\n",
    "# df_filtered_before = df_filtered[df_filtuered.run < 16880]\n",
    "# df_filtered_after = df_filtered[df_filtered.run >= 16880]\n",
    "#np.savetxt(\"./calc_data_pot_run_3.txt\", df_filtered.values, fmt='%d') # save list of good run\n",
    "# np.savetxt(\"./calc_data_pot_run_3b_after_filtered.txt\", df_filtered_after.values, fmt='%d')\n",
    "gen_run_subrun_list(inFile, \"./calc_data_pot_run_3.txt\")"
   ]
  },
  {
   "cell_type": "markdown",
   "id": "8b979d07",
   "metadata": {},
   "source": [
    "There is the need to first upload the .txt file up onto gpvm, and then go from there\n",
    "\n",
    "Open a terminal:\n",
    "\n",
    "> cd /exp/uboone/app/users/wwang/POT_check <br />\n",
    "> source setup_shell.sh <br />\n",
    "> source setup_samweb.sh <br />\n",
    "> unsetup python <br />\n",
    "> setup python v2_7_3 <br />\n",
    "> /exp/uboone/app/users/zarko/getDataInfo.py -v3 --format-numi --prescale --run-subrun-list /exp/uboone/app/users/wwang/POT_check/calc_data_pot_run_3.txt <br />\n",
    "\n",
    "---\n",
    "\n",
    "```\n",
    "Read 233725 lines from /exp/uboone/app/users/wwang/POT_check/calc_data_pot_run_3.txt\n",
    "           EXT         Gate1        EA9CNT        tor101        tortgt   EA9CNT_wcut   tor101_wcut   tortgt_wcut\n",
    "   109120846.0     9650960.0     9640633.0     4.583e+20     4.563e+20     9431541.0     4.581e+20     4.562e+20\n",
    "\n",
    "\tEXT_unbiased_PrescaleAlgo                          2182416.920000\n",
    "\tNUMI_unbiased_PrescaleAlgo                         154415.360000\n",
    "\tEXT_HSN_c0_FEMBeamTriggerAlgo                      21824169.200000\n",
    "\tEXT_BNBwin_2017Dec_SWTrigger5PE_FEMBeamTriggerAlgo 105285540.000000\n",
    "\tNUMI_2017Dec_SWTrigger8_5PE_FEMBeamTriggerAlgo     2448.000000\n",
    "\tEXT_HSN_c1_FEMBeamTriggerAlgo                      7429.200000\n",
    "\tEXT_NUMIwin_FEMBeamTriggerAlgo                     19096148.050000\n",
    "\tNUMI_2018May_FEMBeamTriggerAlgo                    1802194.000000\n",
    "\tEXT_NUMIwin_2018May_FEMBeamTriggerAlgo             4459695.800000\n",
    "\tNUMI_FEMBeamTriggerAlgo                            9650960.000000\n",
    "\tNUMI_2017Dec_SWTrigger9PE_FEMBeamTriggerAlgo       963.000000\n",
    "\tEXT_BNBwin_FEMBeamTriggerAlgo                      109120846.000000\n",
    "\tEXT_NUMIwin_2017Dec_SWTrigger8_5PE_FEMBeamTriggerAlgo 2685.375000\n",
    "\tEXT_NUMIwin_2017Dec_SWTrigger9PE_FEMBeamTriggerAlgo 1474.200000\n",
    "\tNUMI_2017Dec_SWTrigger8PE_FEMBeamTriggerAlgo       2114.000000\n",
    "\tEXT_NUMIwin_2017Dec_SWTrigger8PE_FEMBeamTriggerAlgo 2340.975000\n",
    "```"
   ]
  },
  {
   "cell_type": "code",
   "execution_count": 4,
   "id": "866d4fd6",
   "metadata": {},
   "outputs": [
    {
     "name": "stdout",
     "output_type": "stream",
     "text": [
      "Run 3 DATA POT = 4.56e+20\n"
     ]
    }
   ],
   "source": [
    "# Run 3 Beam-On\n",
    "run3_data_pot = 4.562e+20 # (tortgt_wcut)\n",
    "print(\"Run 3 DATA POT = %.2e\" % run3_data_pot)"
   ]
  },
  {
   "cell_type": "markdown",
   "id": "d6f0f15e",
   "metadata": {},
   "source": [
    "# Run 3 EXT\n",
    "\n",
    "To calculate the EXT POT, first do the same step as the beam-on, produce run/subrun list for EXT beam-off file and run it through zarko's script"
   ]
  },
  {
   "cell_type": "code",
   "execution_count": 5,
   "id": "092902a1",
   "metadata": {},
   "outputs": [],
   "source": [
    "# ===================== #\n",
    "#   INPUT INFORMATION   #\n",
    "# ===================== #\n",
    "\n",
    "inFile_run3_ext = './ROOT_files/checkout_data_extnumi_run3.root'\n",
    "\n",
    "# save the run/subrun list, through obtaining the T_eval tree's run/subrun NTuples\n",
    "T_eval = uproot.open(inFile)['wcpselection/T_eval']\n",
    "df_eval = T_eval.pandas.df(['run', 'subrun'], flatten=False)\n",
    "\n",
    "# save the run/subrun list with the pre-written function\n",
    "gen_run_subrun_list(inFile_run3_ext, \"./calc_ext_pot_run_3.txt\")"
   ]
  },
  {
   "cell_type": "markdown",
   "id": "71d6ef15",
   "metadata": {},
   "source": [
    "Open a terminal:\n",
    "\n",
    "> cd /exp/uboone/app/users/wwang/POT_check <br />\n",
    "> source setup_shell.sh <br />\n",
    "> source setup_samweb.sh <br />\n",
    "> unsetup python <br />\n",
    "> setup python v2_7_3 <br />\n",
    "> /exp/uboone/app/users/zarko/getDataInfo.py -v3 --format-numi --prescale --run-subrun-list /exp/uboone/app/users/wwang/POT_check/calc_ext_pot_run_3.txt <br />\n",
    "\n",
    "---\n",
    "\n",
    "```\n",
    "Read 337088 lines from /exp/uboone/app/users/wwang/POT_check/calc_ext_pot_run_3.txt\n",
    "           EXT         Gate1        EA9CNT        tor101        tortgt   EA9CNT_wcut   tor101_wcut   tortgt_wcut\n",
    "   173972943.0     9887458.0     9885888.0     4.535e+20     4.516e+20     9334387.0     4.533e+20     4.514e+20\n",
    "\n",
    "\tEXT_unbiased_PrescaleAlgo                          3573973.980000\n",
    "\tNUMI_unbiased_PrescaleAlgo                         158199.328000\n",
    "\tEXT_HSN_c0_FEMBeamTriggerAlgo                      34794588.600000\n",
    "\tEXT_BNBwin_2017Dec_SWTrigger5PE_FEMBeamTriggerAlgo 169376466.000000\n",
    "\tNUMI_2017Dec_SWTrigger8_5PE_FEMBeamTriggerAlgo     2404.000000\n",
    "\tEXT_HSN_c1_FEMBeamTriggerAlgo                      9293.000000\n",
    "\tEXT_BNBwin_2017Dec_v2_FEMBeamTriggerAlgo           12976.000000\n",
    "\tEXT_NUMIwin_FEMBeamTriggerAlgo                     30445265.025000\n",
    "\tNUMI_2018May_FEMBeamTriggerAlgo                    1859774.000000\n",
    "\tEXT_NUMIwin_2018May_FEMBeamTriggerAlgo             13740405.875000\n",
    "\tNUMI_FEMBeamTriggerAlgo                            9887458.000000\n",
    "\tEXT_BNBwin_2017Dec_v1_FEMBeamTriggerAlgo           16611.000000\n",
    "\tEXT_BNBwin_2017Dec_v3_FEMBeamTriggerAlgo           14097.000000\n",
    "\tNUMI_2017Dec_SWTrigger9PE_FEMBeamTriggerAlgo       1294.000000\n",
    "\tEXT_BNBwin_FEMBeamTriggerAlgo                      173972943.000000\n",
    "\tEXT_NUMIwin_2017Dec_SWTrigger8_5PE_FEMBeamTriggerAlgo 2637.775000\n",
    "\tEXT_NUMIwin_2017Dec_SWTrigger9PE_FEMBeamTriggerAlgo 2855.650000\n",
    "\tNUMI_2017Dec_SWTrigger8PE_FEMBeamTriggerAlgo       2383.000000\n",
    "\tEXT_BNBwin_2017Dec_v4_FEMBeamTriggerAlgo           15807.000000\n",
    "\tEXT_NUMIwin_2017Dec_SWTrigger8PE_FEMBeamTriggerAlgo 2637.950000\n",
    "```"
   ]
  },
  {
   "cell_type": "code",
   "execution_count": 11,
   "id": "c37977d8",
   "metadata": {},
   "outputs": [
    {
     "name": "stdout",
     "output_type": "stream",
     "text": [
      "Run 3 EXT POT = 1.49e+21\n"
     ]
    }
   ],
   "source": [
    "run3_EXT_EA9CNT_wcut = 9334387.0 #9431541.0\n",
    "run3_EXT_NUMIwin_FEMBeamTriggerAlgo = 30445265.025000\n",
    "run3_ext_pot = run3_data_pot/(run3_EXT_EA9CNT_wcut/run3_EXT_NUMIwin_FEMBeamTriggerAlgo)\n",
    "print(\"Run 3 EXT POT = %.2e\" % run3_ext_pot)"
   ]
  }
 ],
 "metadata": {
  "kernelspec": {
   "display_name": "numu_xsec",
   "language": "python",
   "name": "python3"
  },
  "language_info": {
   "codemirror_mode": {
    "name": "ipython",
    "version": 3
   },
   "file_extension": ".py",
   "mimetype": "text/x-python",
   "name": "python",
   "nbconvert_exporter": "python",
   "pygments_lexer": "ipython3",
   "version": "3.11.11"
  }
 },
 "nbformat": 4,
 "nbformat_minor": 5
}
