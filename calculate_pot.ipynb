{
 "cells": [
  {
   "cell_type": "markdown",
   "id": "2c3a1a96",
   "metadata": {},
   "source": [
    "# Calculate POT\n",
    "\n",
    "Adapting from Marina's POT code"
   ]
  },
  {
   "cell_type": "markdown",
   "id": "dee737df",
   "metadata": {},
   "source": [
    "This code teaches you how to calculate the POT for a given sample. There is an option of applying cuts on the sample before calculating the POT, which is important for beam-on, for example, as we are interested in the POT after applying the good-quality check and in a specific neutrino mode (for run 1 it means to select the runs < 6748). So make sure you are applying all the necessary cuts before calculating the POT, as the POT is used as an input for the analysis."
   ]
  },
  {
   "cell_type": "code",
   "execution_count": 2,
   "id": "206740c9",
   "metadata": {},
   "outputs": [
    {
     "name": "stderr",
     "output_type": "stream",
     "text": [
      "/var/folders/fv/hd3tpwx94s5bkn0_24vqg4wc0000gn/T/ipykernel_3652/567715129.py:1: DeprecationWarning: Importing display from IPython.core.display is deprecated since IPython 7.14, please import from IPython display\n",
      "  from IPython.core.display import display, HTML # fix window size\n"
     ]
    },
    {
     "data": {
      "text/html": [
       "<style>.container {width:100% !important;}</style>"
      ],
      "text/plain": [
       "<IPython.core.display.HTML object>"
      ]
     },
     "metadata": {},
     "output_type": "display_data"
    }
   ],
   "source": [
    "from IPython.core.display import display, HTML # fix window size\n",
    "display(HTML('<style>.container {width:100% !important;}</style>'))\n",
    "import pandas as pd\n",
    "import uproot3 as uproot\n",
    "import numpy as np"
   ]
  },
  {
   "cell_type": "code",
   "execution_count": 3,
   "id": "81eefa26",
   "metadata": {},
   "outputs": [],
   "source": [
    "def gen_run_subrun_list(input_file, name_list):\n",
    "    # Get useful variables\n",
    "    T_eval = uproot.open(input_file)['wcpselection/T_eval']\n",
    "    df_eval = T_eval.pandas.df(['run', 'subrun'], flatten=False)\n",
    "    df_eval.drop_duplicates(inplace=True) \n",
    "    np.savetxt(name_list, df_eval.values, fmt='%d')\n",
    "    \n",
    "# --- keep only good-quality events\n",
    "def apply_good_quality_check(df_in, file):\n",
    "    # Create dataframe with the good-quality runs you printed above\n",
    "    df_good_runs = pd.read_csv(file, sep=\", \", header=None, engine='python')\n",
    "    df_good_runs = df_good_runs.T # transpose so it's a column dataframe\n",
    "    df_good_runs.rename(columns={0:'run'}, inplace=True) # rename column to match with the one below\n",
    "    \n",
    "    # apply the cut\n",
    "    df = pd.merge(df_in, df_good_runs, how='left', indicator=True)\n",
    "    df_good = df[df._merge=='both'] # good-quality runs in input sample\n",
    "    df_bad = df[df._merge!='both'] # bad-quality runs in input sample\n",
    "    \n",
    "    # uncomment if you want to select GOOD-QUALITY events\n",
    "    df_final = df_good.drop(columns=\"_merge\") # remove column \"merge\" only used for distinguishin good/bad\n",
    "    df_final.drop_duplicates(inplace=True) # remove duplicates\n",
    "    \n",
    "    bad_quality = False # false=keep good-quality, true=keep bad-quality\n",
    "    if(bad_quality):\n",
    "        df_final = df_bad.drop(columns=\"_merge\")\n",
    "        df_final.drop_duplicates(inplace=True)\n",
    "    \n",
    "    return df_final"
   ]
  },
  {
   "cell_type": "markdown",
   "id": "2d1b1736",
   "metadata": {},
   "source": [
    "# Run 3 Beam-On\n",
    "\n",
    "This part is necessary for beam-on only. As we want to apply the good-quality check, we need the list of good-quality runs that will be used as a filter to compare to the runs present in the sample and keep only the good-quality ones. This part of the code you have to do manually on the terminal. First, create all the necessary tickets to run samweb commands:\n",
    "\n",
    "> source /cvmfs/uboone.opensciencegrid.org/products/setup_uboone.sh <br />\n",
    "> setup uboonecode v09_32_00 -q e20:prof <br />\n",
    "> setup sam_web_client <br />\n",
    "> voms-proxy-init -noregen -rfc -voms fermilab:/fermilab/uboone/Role=Analysis <br />\n",
    "> kx509 <br />\n",
    "\n",
    "Which can quickly be ran as:\n",
    "\n",
    "> cd /uboone/app/users/mguzzo/antinue <br />\n",
    "> source setup_samweb.sh\n",
    "\n",
    "Then, run the samweb command that will print the list of run/subrun for the good-quality ones:\n",
    "\n",
    "> cd /uboone/app/users/mguzzo/antinue <br />\n",
    "> samweb describe-definition goodruns_mcc9_run1_high_lifetime > calculate_pot_run1_beamon_goodquality.list\n",
    "\n",
    "Unfortunately the list generated above is not in the correct format, so let's work on this so it is in the format that the code below needs it to be. You have to do a few things:\n",
    "- ( 1 ) delete the header of the file, everything that is not run numbers\n",
    "- ( 2 ) manually remove all the new lines and make it into a single line list\n",
    "- ( 3 ) make sure all run numbers have \", \" in front of it\n",
    "\n",
    "Once you're done with the steps above, you'll have a run_list_run1_beamon_original.list in the correct format to be used by the code below:"
   ]
  },
  {
   "cell_type": "code",
   "execution_count": 5,
   "id": "b6d8b84f",
   "metadata": {},
   "outputs": [],
   "source": [
    "# ===================== #\n",
    "#   INPUT INFORMATION   #\n",
    "# ===================== #\n",
    "\n",
    "# you need:\n",
    "# 1) the good-quality run list generated above (samdef: goodruns_mcc9_run1_high_lifetime)\n",
    "# 2) the checkout file\n",
    "\n",
    "inFile = './ROOT_files/checkout_run3_data.root'\n",
    "\n",
    "# ======================== #\n",
    "#   POT OF ENTIRE SAMPLE   #\n",
    "# ======================== #\n",
    "\n",
    "# save the original run/subrun list, without applying any cut\n",
    "T_eval = uproot.open(inFile)['wcpselection/T_eval']\n",
    "df_eval = T_eval.pandas.df(['run', 'subrun'], flatten=False)\n",
    "df_eval.drop_duplicates(inplace=True) \n",
    "#np.savetxt(\"/uboone/app/users/mguzzo/antinue/run_subrun_list_run1_beamon_original.list\", df_eval.values, fmt='%d')\n",
    "\n",
    "# ======================== #\n",
    "#   APPLY CUTS ON SAMPLE   #\n",
    "# ======================== #\n",
    "\n",
    "df_filtered = apply_good_quality_check(df_eval, 'goodruns_mcc9_run3_hardcoded.list')\n",
    "#np.savetxt(\"/uboone/app/users/mguzzo/antinue/run_subrun_list_run1_beamon_filtered.list\", df_filtered.values, fmt='%d') # save list of good runs\n",
    "\n",
    "# --- select only FHC events\n",
    "df_filtered_before = df_filtered[df_filtered.run < 16880]\n",
    "df_filtered_after = df_filtered[df_filtered.run >= 16880]\n",
    "np.savetxt(\"./calc_data_pot_run_3b_before_filtered.txt\", df_filtered_before.values, fmt='%d') # save list of good run\n",
    "np.savetxt(\"./calc_data_pot_run_3b_after_filtered.txt\", df_filtered_after.values, fmt='%d')"
   ]
  },
  {
   "cell_type": "markdown",
   "id": "8b979d07",
   "metadata": {},
   "source": [
    "There is the need to first upload the .txt file up onto gpvm, and then go from there\n",
    "\n",
    "Open a terminal:\n",
    "\n",
    "> cd /uboone/app/users/mguzzo/antinue <br />\n",
    "> source setup_samweb.sh <br />\n",
    "> unsetup python <br />\n",
    "> setup python v2_7_3 <br />\n",
    "> python2.7 getDataInfo.py -v3 --format-numi --prescale --run-subrun-list /uboone/app/users/wwang/calc_data_pot_run_3b_before_filtered.txt <br />\n",
    "\n",
    "---\n",
    "\n",
    "```\n",
    "Read 70595 lines from run_subrun_list_run1_beamon_filtered2.list\n",
    "           EXT         Gate1        EA9CNT        tor101        tortgt   EA9CNT_wcut   tor101_wcut   tortgt_wcut\n",
    "    19374300.0     5434744.0     5448638.0     2.024e+20     2.019e+20     5304302.0     2.018e+20     2.014e+20\n",
    "\n",
    "\tEXT_unbiased_PrescaleAlgo                          387608.400000\n",
    "\tNUMI_unbiased_PrescaleAlgo                         87212.376000\n",
    "\tEXT_NUMIwin_FEMBeamTriggerAlgo                     3390539.900000\n",
    "\tNUMI_FEMBeamTriggerAlgo                            5434744.000000\n",
    "\tEXT_BNBwin_FEMBeamTriggerAlgo                      19374300.000000\n",
    "```"
   ]
  },
  {
   "cell_type": "code",
   "execution_count": 11,
   "id": "866d4fd6",
   "metadata": {},
   "outputs": [
    {
     "name": "stdout",
     "output_type": "stream",
     "text": [
      "Run 1 DATA POT = 2.01e+20\n"
     ]
    }
   ],
   "source": [
    "# Run 1 Beam-On\n",
    "run1_data_pot = 2.01e+20\n",
    "run1_EA9CNT_wcut = 5304302.0\n",
    "print(\"Run 1 DATA POT = %.2e\" % run1_data_pot)"
   ]
  },
  {
   "cell_type": "markdown",
   "id": "d6f0f15e",
   "metadata": {},
   "source": [
    "# Run 1 EXT\n",
    "\n",
    "To calculate the EXT POT, first calculate the beam-on variables above."
   ]
  },
  {
   "cell_type": "code",
   "execution_count": 3,
   "id": "6b9e83fc",
   "metadata": {},
   "outputs": [],
   "source": [
    "inFile_ext_run1 = '/uboone/data/users/mguzzo/wirecell/checkout_data_extnumi_run1.root'\n",
    "gen_run_subrun_list(inFile_ext_run1, \"run_subrun_list_run1_ext.list\")"
   ]
  },
  {
   "cell_type": "markdown",
   "id": "71d6ef15",
   "metadata": {},
   "source": [
    "Open a terminal:\n",
    "\n",
    "> cd /uboone/app/users/mguzzo/antinue <br />\n",
    "> source setup_samweb.sh <br />\n",
    "> unsetup python <br />\n",
    "> setup python v2_7_3 <br />\n",
    "> python2.7 getDataInfo.py -v3 --format-numi --prescale --run-subrun-list run_subrun_list_run1_ext.list <br />\n",
    "\n",
    "---\n",
    "\n",
    "```\n",
    "Read 41801 lines from run_subrun_list_run1_ext.list\n",
    "           EXT         Gate1        EA9CNT        tor101        tortgt   EA9CNT_wcut   tor101_wcut   tortgt_wcut\n",
    "    19489942.0     2334674.0     2340049.0     8.693e+19     8.675e+19     2229613.0     8.661e+19     8.643e+19\n",
    "\n",
    "\tEXT_unbiased_PrescaleAlgo                          260105.096000\n",
    "\tNUMI_unbiased_PrescaleAlgo                         37315.760000\n",
    "\tEXT_NUMIwin_FEMBeamTriggerAlgo                     2466466.930000\n",
    "\tNUMI_FEMBeamTriggerAlgo                            2334498.000000\n",
    "\tEXT_BNBwin_FEMBeamTriggerAlgo                      19489942.000000\n",
    "```"
   ]
  },
  {
   "cell_type": "code",
   "execution_count": 10,
   "id": "c37977d8",
   "metadata": {},
   "outputs": [
    {
     "name": "stdout",
     "output_type": "stream",
     "text": [
      "Run 1 EXT POT = 9.35e+19\n"
     ]
    }
   ],
   "source": [
    "run1_EXT_NUMIwin_FEMBeamTriggerAlgo = 2466466.93\n",
    "run1_ext_pot = run1_data_pot/(run1_EA9CNT_wcut/run1_EXT_NUMIwin_FEMBeamTriggerAlgo)\n",
    "print(\"Run 1 EXT POT = %.2e\" % run1_ext_pot)"
   ]
  },
  {
   "cell_type": "markdown",
   "id": "c0079fe4",
   "metadata": {},
   "source": [
    "# Run 3 EXT"
   ]
  },
  {
   "cell_type": "markdown",
   "id": "77d90bf9",
   "metadata": {},
   "source": [
    "Get list of good-quality runs for run3b:\n",
    "\n",
    "```\n",
    "uboonegpvm04$ samweb describe-definition goodruns_mcc9_run3_high_lifetime\n",
    "Definition Name: goodruns_mcc9_run3_high_lifetime\n",
    "  Definition Id: 77501387\n",
    "  Creation Date: 2020-04-24T22:14:51+00:00\n",
    "       Username: uboonepro\n",
    "          Group: uboone\n",
    "     Dimensions: defname: goodruns_mcc9_run3_hardcoded and run_number < 14643 or run_number > 14736 and run_number < 16698 or run_number > 16788\n",
    "```\n",
    "\n",
    "> samweb describe-definition goodruns_mcc9_run3_hardcoded > calculate_pot_run3_goodquality.list"
   ]
  },
  {
   "cell_type": "code",
   "execution_count": 8,
   "id": "31bbefac",
   "metadata": {},
   "outputs": [],
   "source": [
    "inFile_ext_run3 = '/uboone/data/users/mguzzo/wirecell/run3_ext/wirecell_run3_ext_full.root'\n",
    "\n",
    "# create dataframe with run/subrun\n",
    "T_eval_ext_run3 = uproot.open(inFile_ext_run3)['wcpselection/T_eval']\n",
    "df_eval_ext_run3 = T_eval_ext_run3.pandas.df(['run', 'subrun'], flatten=False)\n",
    "df_eval_ext_run3.drop_duplicates(inplace=True) \n",
    "\n",
    "# apply good-quality runs cut from list created above\n",
    "df_ext_run3_filtered = apply_good_quality_check(df_eval_ext_run3, 'calculate_pot_run3_goodquality.list')\n",
    "\n",
    "# also apply the remaning cuts by hand to make sure\n",
    "# \"run_number < 14643 or run_number > 14736 and run_number < 16698 or run_number > 16788\" is respected\n",
    "df_ext_run3_filtered = df_ext_run3_filtered[(df_ext_run3_filtered.run<14643) | \n",
    "                                            ((df_ext_run3_filtered.run>14736) & (df_ext_run3_filtered.run<16698)) | \n",
    "                                            (df_ext_run3_filtered.run>16788)]\n",
    "\n",
    "# save the remaining events into a list that will be used to calculate the POT\n",
    "np.savetxt(\"/uboone/app/users/mguzzo/antinue/run_subrun_list_run3_ext_filtered.list\", df_ext_run3_filtered.values, fmt='%d') # save list of good run"
   ]
  },
  {
   "cell_type": "markdown",
   "id": "43195cba",
   "metadata": {},
   "source": [
    "Open a terminal:\n",
    "\n",
    "> cd /uboone/app/users/mguzzo/antinue <br />\n",
    "> source setup_samweb.sh <br />\n",
    "> unsetup python <br />\n",
    "> setup python v2_7_3 <br />\n",
    "> python2.7 getDataInfo.py -v3 --format-numi --prescale --run-subrun-list run_subrun_list_run3_ext_filtered.list <br />\n",
    "\n",
    "---\n",
    "\n",
    "```\n",
    "uboonegpvm04$ python2.7 getDataInfo.py -v3 --format-numi --prescale --run-subrun-list run_subrun_list_run3_ext_filtered.list\n",
    "Read 357671 lines from run_subrun_list_run3_ext_filtered.list\n",
    "           EXT         Gate1        EA9CNT        tor101        tortgt   EA9CNT_wcut   tor101_wcut   tortgt_wcut\n",
    "   184405418.0    10513907.0    10512474.0     4.823e+20     4.803e+20     9926043.0     4.821e+20     4.801e+20\n",
    "Warning!! NuMI data for some of the requsted runs/subruns is not in the database.\n",
    "1 runs missing NuMI data (number of subruns missing the data): 16228 (1),\n",
    "\n",
    "\tEXT_unbiased_PrescaleAlgo                          3786069.160000\n",
    "\tNUMI_unbiased_PrescaleAlgo                         168222.512000\n",
    "\tEXT_HSN_c0_FEMBeamTriggerAlgo                      36881083.600000\n",
    "\tEXT_BNBwin_2017Dec_SWTrigger5PE_FEMBeamTriggerAlgo 179555601.000000\n",
    "\tNUMI_2017Dec_SWTrigger8_5PE_FEMBeamTriggerAlgo     2404.000000\n",
    "\tEXT_HSN_c1_FEMBeamTriggerAlgo                      9357.000000\n",
    "\tEXT_BNBwin_2017Dec_v2_FEMBeamTriggerAlgo           16702.000000\n",
    "\tEXT_NUMIwin_FEMBeamTriggerAlgo                     32270948.150000\n",
    "\tNUMI_2018May_FEMBeamTriggerAlgo                    1949338.000000\n",
    "\tEXT_NUMIwin_2018May_FEMBeamTriggerAlgo             14450970.800000\n",
    "\tNUMI_FEMBeamTriggerAlgo                            10513907.000000\n",
    "\tEXT_BNBwin_2017Dec_v1_FEMBeamTriggerAlgo           16611.000000\n",
    "\tEXT_BNBwin_2017Dec_v3_FEMBeamTriggerAlgo           16703.000000\n",
    "\tNUMI_2017Dec_SWTrigger9PE_FEMBeamTriggerAlgo       1294.000000\n",
    "\tEXT_BNBwin_FEMBeamTriggerAlgo                      184405418.000000\n",
    "\tEXT_NUMIwin_2017Dec_SWTrigger8_5PE_FEMBeamTriggerAlgo 2637.775000\n",
    "\tEXT_NUMIwin_2017Dec_SWTrigger9PE_FEMBeamTriggerAlgo 2855.650000\n",
    "\tEXT_BNBwin_2017Dec_v4_FEMBeamTriggerAlgo           15807.000000\n",
    "\tNUMI_2017Dec_SWTrigger8PE_FEMBeamTriggerAlgo       2434.000000\n",
    "\tEXT_NUMIwin_2017Dec_SWTrigger8PE_FEMBeamTriggerAlgo 2693.950000\n",
    "```\n",
    "\n",
    "---\n",
    "Observation: there are more lines for the Run3b output in comparison to Run1 due to the trigger changes that happened during Run3b. So don't worry about that."
   ]
  },
  {
   "cell_type": "markdown",
   "id": "784bfd30",
   "metadata": {},
   "source": [
    "# Summary"
   ]
  },
  {
   "cell_type": "code",
   "execution_count": 6,
   "id": "ff9eb583",
   "metadata": {},
   "outputs": [
    {
     "name": "stdout",
     "output_type": "stream",
     "text": [
      "Run 1 DATA POT = 2.01e+20\n",
      "Run 1 EXT POT = 9.35e+19\n"
     ]
    }
   ],
   "source": [
    "# Run 1 Beam-On\n",
    "run1_data_pot = 2.01e+20\n",
    "run1_EA9CNT_wcut = 5304302.0\n",
    "print(\"Run 1 DATA POT = %.2e\" % run1_data_pot)\n",
    "\n",
    "# Run 1 EXT\n",
    "run1_EXT_NUMIwin_FEMBeamTriggerAlgo = 2466466.93\n",
    "run1_ext_pot = run1_data_pot/(run1_EA9CNT_wcut/run1_EXT_NUMIwin_FEMBeamTriggerAlgo)\n",
    "print(\"Run 1 EXT POT = %.2e\" % run1_ext_pot)"
   ]
  }
 ],
 "metadata": {
  "kernelspec": {
   "display_name": "Python 3 (ipykernel)",
   "language": "python",
   "name": "python3"
  },
  "language_info": {
   "codemirror_mode": {
    "name": "ipython",
    "version": 3
   },
   "file_extension": ".py",
   "mimetype": "text/x-python",
   "name": "python",
   "nbconvert_exporter": "python",
   "pygments_lexer": "ipython3",
   "version": "3.11.6"
  }
 },
 "nbformat": 4,
 "nbformat_minor": 5
}
