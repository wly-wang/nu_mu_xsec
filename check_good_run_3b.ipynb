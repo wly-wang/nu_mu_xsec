{
 "cells": [
  {
   "cell_type": "code",
   "execution_count": 1,
   "metadata": {},
   "outputs": [],
   "source": [
    "#====================#\n",
    "#  Import Packages   #\n",
    "#====================#\n",
    "\n",
    "import math \n",
    "import numpy as np\n",
    "import pandas as pd\n",
    "import matplotlib.pyplot as plt\n",
    "from matplotlib import gridspec\n",
    "\n",
    "import uproot3 as uproot"
   ]
  },
  {
   "cell_type": "code",
   "execution_count": 2,
   "metadata": {},
   "outputs": [],
   "source": [
    "# First, read in the currently used .txt file for before/after trigger change for run 3b as DF\n",
    "run3b_before_good_runs = pd.read_csv(\"calc_data_pot_run_3b_before_filtered.txt\", sep=\" \", header=None)\n",
    "run3b_after_good_runs = pd.read_csv(\"calc_data_pot_run_3b_after_filtered.txt\", sep=\" \", header=None)\n",
    "\n",
    "run3b_before_charlie_good_runs = pd.read_csv(\"charlie_data_before_3b_good_runs.txt\", sep=\" \", header=None)\n",
    "run3b_after_charlie_good_runs = pd.read_csv(\"charlie_data_after_3b_good_runs.txt\", sep=\" \", header=None)\n",
    "\n",
    "# format the columns into run and subrun\n",
    "run3b_before_good_runs.columns = [\"run\", \"subrun\"]\n",
    "run3b_after_good_runs.columns = [\"run\", \"subrun\"]\n",
    "run3b_before_charlie_good_runs.columns = [\"run\", \"subrun\"]\n",
    "run3b_after_charlie_good_runs.columns = [\"run\", \"subrun\"]"
   ]
  },
  {
   "cell_type": "code",
   "execution_count": 3,
   "metadata": {},
   "outputs": [
    {
     "data": {
      "text/html": [
       "<div>\n",
       "<style scoped>\n",
       "    .dataframe tbody tr th:only-of-type {\n",
       "        vertical-align: middle;\n",
       "    }\n",
       "\n",
       "    .dataframe tbody tr th {\n",
       "        vertical-align: top;\n",
       "    }\n",
       "\n",
       "    .dataframe thead th {\n",
       "        text-align: right;\n",
       "    }\n",
       "</style>\n",
       "<table border=\"1\" class=\"dataframe\">\n",
       "  <thead>\n",
       "    <tr style=\"text-align: right;\">\n",
       "      <th></th>\n",
       "      <th>run</th>\n",
       "      <th>subrun</th>\n",
       "    </tr>\n",
       "  </thead>\n",
       "  <tbody>\n",
       "    <tr>\n",
       "      <th>0</th>\n",
       "      <td>15073</td>\n",
       "      <td>176</td>\n",
       "    </tr>\n",
       "    <tr>\n",
       "      <th>1</th>\n",
       "      <td>15286</td>\n",
       "      <td>78</td>\n",
       "    </tr>\n",
       "    <tr>\n",
       "      <th>2</th>\n",
       "      <td>15286</td>\n",
       "      <td>84</td>\n",
       "    </tr>\n",
       "    <tr>\n",
       "      <th>3</th>\n",
       "      <td>15286</td>\n",
       "      <td>86</td>\n",
       "    </tr>\n",
       "    <tr>\n",
       "      <th>4</th>\n",
       "      <td>15286</td>\n",
       "      <td>98</td>\n",
       "    </tr>\n",
       "    <tr>\n",
       "      <th>...</th>\n",
       "      <td>...</td>\n",
       "      <td>...</td>\n",
       "    </tr>\n",
       "    <tr>\n",
       "      <th>199660</th>\n",
       "      <td>14436</td>\n",
       "      <td>142</td>\n",
       "    </tr>\n",
       "    <tr>\n",
       "      <th>199661</th>\n",
       "      <td>14436</td>\n",
       "      <td>152</td>\n",
       "    </tr>\n",
       "    <tr>\n",
       "      <th>199662</th>\n",
       "      <td>14436</td>\n",
       "      <td>187</td>\n",
       "    </tr>\n",
       "    <tr>\n",
       "      <th>199663</th>\n",
       "      <td>14436</td>\n",
       "      <td>190</td>\n",
       "    </tr>\n",
       "    <tr>\n",
       "      <th>199664</th>\n",
       "      <td>14436</td>\n",
       "      <td>200</td>\n",
       "    </tr>\n",
       "  </tbody>\n",
       "</table>\n",
       "<p>199665 rows × 2 columns</p>\n",
       "</div>"
      ],
      "text/plain": [
       "          run  subrun\n",
       "0       15073     176\n",
       "1       15286      78\n",
       "2       15286      84\n",
       "3       15286      86\n",
       "4       15286      98\n",
       "...       ...     ...\n",
       "199660  14436     142\n",
       "199661  14436     152\n",
       "199662  14436     187\n",
       "199663  14436     190\n",
       "199664  14436     200\n",
       "\n",
       "[199665 rows x 2 columns]"
      ]
     },
     "execution_count": 3,
     "metadata": {},
     "output_type": "execute_result"
    }
   ],
   "source": [
    "run3b_before_good_runs"
   ]
  },
  {
   "cell_type": "code",
   "execution_count": 4,
   "metadata": {},
   "outputs": [
    {
     "name": "stdout",
     "output_type": "stream",
     "text": [
      "My run 3b good runs before trigger: 199665\n",
      "Charlie's run 3b good runs before trigger: 207385\n",
      "\n",
      "My run 3b good runs after trigger: 54037\n",
      "Charlie's run 3b good runs after trigger: 54629\n",
      "\n",
      "Charlie has extra runs for both before and after trigger change, number of extra runs are 7720 and 592, respectively.\n"
     ]
    }
   ],
   "source": [
    "print(\"My run 3b good runs before trigger: %d\" % len(run3b_before_good_runs.index))\n",
    "print(\"Charlie's run 3b good runs before trigger: %d\" % len(run3b_before_charlie_good_runs.index))\n",
    "print(\"\\nMy run 3b good runs after trigger: %d\" % len(run3b_after_good_runs.index))\n",
    "print(\"Charlie's run 3b good runs after trigger: %d\" % len(run3b_after_charlie_good_runs.index))\n",
    "\n",
    "num_of_xtra_runs_before = len(run3b_before_charlie_good_runs.index) - len(run3b_before_good_runs.index)\n",
    "num_of_xtra_runs_after = len(run3b_after_charlie_good_runs.index) - len(run3b_after_good_runs.index)\n",
    "print(\"\\nCharlie has extra runs for both before and after trigger change, number of extra runs \" +\n",
    "      \"are %d and %d, respectively.\" % (num_of_xtra_runs_before, num_of_xtra_runs_after))"
   ]
  },
  {
   "cell_type": "code",
   "execution_count": 5,
   "metadata": {},
   "outputs": [],
   "source": [
    "# Now compare charlie's and my lists, and get a dataframe containing different events\n",
    "df_diff_before = pd.concat([run3b_before_good_runs, run3b_before_charlie_good_runs]).drop_duplicates(keep=False)\n",
    "df_diff_after = pd.concat([run3b_after_good_runs, run3b_after_charlie_good_runs]).drop_duplicates(keep=False)\n",
    "\n",
    "# combine before and after\n",
    "df_diff_run3b = pd.concat([df_diff_before, df_diff_after])\n",
    "df_run3b_good_runs_from_data = pd.concat([run3b_before_good_runs, run3b_after_good_runs])"
   ]
  },
  {
   "cell_type": "code",
   "execution_count": 6,
   "metadata": {},
   "outputs": [
    {
     "name": "stdout",
     "output_type": "stream",
     "text": [
      "Charlie and I has in total of 46780 and 10696 different runs, for before and after, respectively\n"
     ]
    }
   ],
   "source": [
    "print(\"Charlie and I has in total of %d and %d different runs, for before and after, respectively\" % (len(df_diff_before.index),len(df_diff_after.index)))"
   ]
  },
  {
   "cell_type": "code",
   "execution_count": 7,
   "metadata": {},
   "outputs": [],
   "source": [
    "# now, import the actual correct MCC9 good run list containing good runs (no subrun for this)\n",
    "df_good_runs_mcc9 = pd.read_csv(\"goodruns_mcc9_run3_hardcoded.list\", sep=\",\", header=None)\n",
    "df_charlie_good_runs_mcc9 = pd.read_csv(\"charlie_mcc9_run3b_good_runs.txt\", sep=\",\", header=None)\n",
    "df_good_runs_mcc9 = df_good_runs_mcc9.T\n",
    "df_charlie_good_runs_mcc9 = df_charlie_good_runs_mcc9.T\n",
    "\n",
    "# rename the column as that's the run column\n",
    "df_good_runs_mcc9.columns = [\"run\"]\n",
    "df_charlie_good_runs_mcc9.columns = [\"run\"]"
   ]
  },
  {
   "cell_type": "code",
   "execution_count": 8,
   "metadata": {},
   "outputs": [],
   "source": [
    "# Now, we need to compare our extra run dfs and see which ones from our extra runs doesn't match with the actual good run list\n",
    "condition = df_diff_run3b[\"run\"].isin(df_good_runs_mcc9[\"run\"])\n",
    "bad_runs_not_suppose_to_be_there = df_diff_run3b.loc[condition]"
   ]
  },
  {
   "cell_type": "code",
   "execution_count": 9,
   "metadata": {},
   "outputs": [
    {
     "name": "stdout",
     "output_type": "stream",
     "text": [
      "         run  subrun\n",
      "25     16118      19\n",
      "26     16118      22\n",
      "27     16118      35\n",
      "28     16118      45\n",
      "29     16118      51\n",
      "...      ...     ...\n",
      "54606  17415     198\n",
      "54607  17415     199\n",
      "54608  17415     269\n",
      "54618  16962      57\n",
      "54625  16962     386\n",
      "\n",
      "[57476 rows x 2 columns]\n"
     ]
    }
   ],
   "source": [
    "print(bad_runs_not_suppose_to_be_there)"
   ]
  },
  {
   "cell_type": "code",
   "execution_count": 10,
   "metadata": {},
   "outputs": [],
   "source": [
    "merged_df_before = pd.merge(run3b_before_good_runs, run3b_before_charlie_good_runs, on=['run', 'subrun'], suffixes=('_w', '_c'), how='outer', indicator=True)\n",
    "merged_df_after = pd.merge(run3b_after_good_runs, run3b_after_charlie_good_runs, on=['run', 'subrun'], suffixes=('_w', '_c'), how='outer', indicator=True)"
   ]
  },
  {
   "cell_type": "code",
   "execution_count": 11,
   "metadata": {},
   "outputs": [],
   "source": [
    "df_common_subruns_before = merged_df_before[merged_df_before['_merge'] == 'both'].drop('_merge', axis=1)\n",
    "df_common_subruns_after = merged_df_after[merged_df_after['_merge'] == 'both'].drop('_merge', axis=1)"
   ]
  },
  {
   "cell_type": "code",
   "execution_count": 12,
   "metadata": {},
   "outputs": [],
   "source": [
    "df_exclusive_will_before = merged_df_before[merged_df_before['_merge'] == 'left_only'].drop('_merge', axis=1)\n",
    "df_exclusive_will_after = merged_df_after[merged_df_after['_merge'] == 'left_only'].drop('_merge', axis=1)"
   ]
  },
  {
   "cell_type": "code",
   "execution_count": 13,
   "metadata": {},
   "outputs": [],
   "source": [
    "df_exclusive_charlie_before = merged_df_before[merged_df_before['_merge'] == 'right_only'].drop('_merge', axis=1)\n",
    "df_exclusive_charlie_after = merged_df_after[merged_df_after['_merge'] == 'right_only'].drop('_merge', axis=1)"
   ]
  },
  {
   "cell_type": "code",
   "execution_count": 14,
   "metadata": {},
   "outputs": [
    {
     "name": "stdout",
     "output_type": "stream",
     "text": [
      "199665\n",
      "54037\n"
     ]
    }
   ],
   "source": [
    "# Entry number sanity check\n",
    "print(len(df_common_subruns_before.index)+len(df_exclusive_will_before.index))\n",
    "print(len(df_common_subruns_after.index)+len(df_exclusive_will_after.index))"
   ]
  },
  {
   "cell_type": "code",
   "execution_count": 15,
   "metadata": {},
   "outputs": [
    {
     "name": "stdout",
     "output_type": "stream",
     "text": [
      "207385\n",
      "54629\n"
     ]
    }
   ],
   "source": [
    "# Entry number sanity check\n",
    "print(len(df_common_subruns_before.index)+len(df_exclusive_charlie_before.index))\n",
    "print(len(df_common_subruns_after.index)+len(df_exclusive_charlie_after.index))"
   ]
  },
  {
   "cell_type": "markdown",
   "metadata": {},
   "source": []
  },
  {
   "cell_type": "markdown",
   "metadata": {},
   "source": []
  },
  {
   "cell_type": "markdown",
   "metadata": {},
   "source": [
    "# Entry number sanity check\n",
    "print(len(df_common_subruns_before.index)+len(df_exclusive_will_before.index))\n",
    "print(len(df_common_subruns_after.index)+len(df_exclusive_will_after.index))"
   ]
  },
  {
   "cell_type": "markdown",
   "metadata": {},
   "source": [
    "# Entry number sanity check\n",
    "print(len(df_common_subruns_before.index)+len(df_exclusive_charlie_before.index))\n",
    "print(len(df_common_subruns_after.index)+len(df_exclusive_charlie_after.index))"
   ]
  },
  {
   "cell_type": "code",
   "execution_count": 16,
   "metadata": {},
   "outputs": [],
   "source": [
    "# save the three subsets into .txt\n",
    "df_common_subruns_before.to_csv(\"df_common_subruns_before.txt\", sep=\" \", index=False)\n",
    "df_common_subruns_after.to_csv(\"df_common_subruns_after.txt\", sep=\" \", index=False)\n",
    "\n",
    "df_exclusive_will_before.to_csv(\"df_exclusive_will_before.txt\", sep=\" \", index=False)\n",
    "df_exclusive_will_after.to_csv(\"df_exclusive_will_after.txt\", sep=\" \", index=False)\n",
    "\n",
    "df_exclusive_charlie_before.to_csv(\"df_exclusive_charlie_before.txt\", sep=\" \", index=False)\n",
    "df_exclusive_charlie_after.to_csv(\"df_exclusive_charlie_after.txt\", sep=\" \", index=False)\n"
   ]
  },
  {
   "cell_type": "code",
   "execution_count": 18,
   "metadata": {},
   "outputs": [
    {
     "data": {
      "text/html": [
       "<div>\n",
       "<style scoped>\n",
       "    .dataframe tbody tr th:only-of-type {\n",
       "        vertical-align: middle;\n",
       "    }\n",
       "\n",
       "    .dataframe tbody tr th {\n",
       "        vertical-align: top;\n",
       "    }\n",
       "\n",
       "    .dataframe thead th {\n",
       "        text-align: right;\n",
       "    }\n",
       "</style>\n",
       "<table border=\"1\" class=\"dataframe\">\n",
       "  <thead>\n",
       "    <tr style=\"text-align: right;\">\n",
       "      <th></th>\n",
       "      <th>run</th>\n",
       "      <th>subrun</th>\n",
       "    </tr>\n",
       "  </thead>\n",
       "  <tbody>\n",
       "    <tr>\n",
       "      <th>0</th>\n",
       "      <td>15073</td>\n",
       "      <td>176</td>\n",
       "    </tr>\n",
       "    <tr>\n",
       "      <th>1</th>\n",
       "      <td>15286</td>\n",
       "      <td>78</td>\n",
       "    </tr>\n",
       "    <tr>\n",
       "      <th>2</th>\n",
       "      <td>15286</td>\n",
       "      <td>84</td>\n",
       "    </tr>\n",
       "    <tr>\n",
       "      <th>3</th>\n",
       "      <td>15286</td>\n",
       "      <td>86</td>\n",
       "    </tr>\n",
       "    <tr>\n",
       "      <th>4</th>\n",
       "      <td>15286</td>\n",
       "      <td>98</td>\n",
       "    </tr>\n",
       "    <tr>\n",
       "      <th>...</th>\n",
       "      <td>...</td>\n",
       "      <td>...</td>\n",
       "    </tr>\n",
       "    <tr>\n",
       "      <th>199659</th>\n",
       "      <td>14436</td>\n",
       "      <td>97</td>\n",
       "    </tr>\n",
       "    <tr>\n",
       "      <th>199660</th>\n",
       "      <td>14436</td>\n",
       "      <td>142</td>\n",
       "    </tr>\n",
       "    <tr>\n",
       "      <th>199661</th>\n",
       "      <td>14436</td>\n",
       "      <td>152</td>\n",
       "    </tr>\n",
       "    <tr>\n",
       "      <th>199662</th>\n",
       "      <td>14436</td>\n",
       "      <td>187</td>\n",
       "    </tr>\n",
       "    <tr>\n",
       "      <th>199663</th>\n",
       "      <td>14436</td>\n",
       "      <td>190</td>\n",
       "    </tr>\n",
       "  </tbody>\n",
       "</table>\n",
       "<p>180134 rows × 2 columns</p>\n",
       "</div>"
      ],
      "text/plain": [
       "          run  subrun\n",
       "0       15073     176\n",
       "1       15286      78\n",
       "2       15286      84\n",
       "3       15286      86\n",
       "4       15286      98\n",
       "...       ...     ...\n",
       "199659  14436      97\n",
       "199660  14436     142\n",
       "199661  14436     152\n",
       "199662  14436     187\n",
       "199663  14436     190\n",
       "\n",
       "[180134 rows x 2 columns]"
      ]
     },
     "execution_count": 18,
     "metadata": {},
     "output_type": "execute_result"
    }
   ],
   "source": [
    "df_common_subruns_before.head(-1)"
   ]
  },
  {
   "cell_type": "code",
   "execution_count": null,
   "metadata": {},
   "outputs": [],
   "source": []
  }
 ],
 "metadata": {
  "kernelspec": {
   "display_name": "general",
   "language": "python",
   "name": "python3"
  },
  "language_info": {
   "codemirror_mode": {
    "name": "ipython",
    "version": 3
   },
   "file_extension": ".py",
   "mimetype": "text/x-python",
   "name": "python",
   "nbconvert_exporter": "python",
   "pygments_lexer": "ipython3",
   "version": "3.11.6"
  }
 },
 "nbformat": 4,
 "nbformat_minor": 2
}
