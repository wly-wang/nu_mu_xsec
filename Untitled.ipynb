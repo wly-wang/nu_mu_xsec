{
 "cells": [
  {
   "cell_type": "code",
   "execution_count": 8,
   "id": "428a39ac",
   "metadata": {},
   "outputs": [],
   "source": [
    "#————————————————————#\n",
    "#  Import Packages\n",
    "#————————————————————#\n",
    "\n",
    "import math \n",
    "import numpy as np\n",
    "import pandas as pd\n",
    "import matplotlib.pyplot as plt\n",
    "from matplotlib import gridspec\n",
    "\n",
    "import uproot \n",
    "\n",
    "#Machine learning packages\n",
    "\n",
    "from sklearn.model_selection import GridSearchCV, train_test_split, cross_val_score\n",
    "from sklearn.utils import shuffle\n",
    "from sklearn.metrics import confusion_matrix, precision_score, recall_score, roc_curve, roc_auc_score, accuracy_score, f1_score\n",
    "\n",
    "import xgboost\n",
    "from xgboost import XGBClassifier"
   ]
  },
  {
   "cell_type": "code",
   "execution_count": 9,
   "id": "aa0f9d1b",
   "metadata": {},
   "outputs": [],
   "source": [
    "# A function for creating dataframes and importing data from root files\n",
    "def new_df(file):\n",
    "    \n",
    "    #import the trees from the root file\n",
    "    T_eval = uproot.reading.open(file)['wcpselection/T_eval']\n",
    "    T_pot = uproot.reading.open(file)['wcpselection/T_pot']\n",
    "    T_PFeval = uproot.reading.open(file)['wcpselection/T_eval']\n",
    "    T_BDTvars = uproot.reading.open(file)['wcpselection/T_eval']\n",
    "    T_KINEvars = uproot.reading.open(file)['wcpselection/T_eval']\n",
    "    \n",
    "    #for each tree, create a data frame\n",
    "    df_eval = pd.DataFrame(T_eval)\n",
    "    df_pot = pd.DataFrame(T_pot)\n",
    "    df_PFeval = pd.DataFrame(T_PFeval)\n",
    "    df_BDTvars = pd.DataFrame(T_BDTvars)\n",
    "    df_KINEvars = pd.DataFrame(T_KINEvars)\n",
    "\n",
    "    return df_eval"
   ]
  },
  {
   "cell_type": "code",
   "execution_count": 12,
   "id": "fa2f0807",
   "metadata": {},
   "outputs": [],
   "source": [
    "df = new_df('ROOT_files/checkout_prodgenie_numi_overlay_CV_run1.root')"
   ]
  },
  {
   "cell_type": "code",
   "execution_count": 14,
   "id": "3425a633",
   "metadata": {},
   "outputs": [
    {
     "data": {
      "text/html": [
       "<div>\n",
       "<style scoped>\n",
       "    .dataframe tbody tr th:only-of-type {\n",
       "        vertical-align: middle;\n",
       "    }\n",
       "\n",
       "    .dataframe tbody tr th {\n",
       "        vertical-align: top;\n",
       "    }\n",
       "\n",
       "    .dataframe thead th {\n",
       "        text-align: right;\n",
       "    }\n",
       "</style>\n",
       "<table border=\"1\" class=\"dataframe\">\n",
       "  <thead>\n",
       "    <tr style=\"text-align: right;\">\n",
       "      <th></th>\n",
       "    </tr>\n",
       "  </thead>\n",
       "  <tbody>\n",
       "    <tr>\n",
       "      <th>0</th>\n",
       "    </tr>\n",
       "    <tr>\n",
       "      <th>1</th>\n",
       "    </tr>\n",
       "    <tr>\n",
       "      <th>2</th>\n",
       "    </tr>\n",
       "    <tr>\n",
       "      <th>3</th>\n",
       "    </tr>\n",
       "    <tr>\n",
       "      <th>4</th>\n",
       "    </tr>\n",
       "  </tbody>\n",
       "</table>\n",
       "</div>"
      ],
      "text/plain": [
       "Empty DataFrame\n",
       "Columns: []\n",
       "Index: [0, 1, 2, 3, 4]"
      ]
     },
     "execution_count": 14,
     "metadata": {},
     "output_type": "execute_result"
    }
   ],
   "source": [
    "df.head()"
   ]
  },
  {
   "cell_type": "code",
   "execution_count": null,
   "id": "8e0544df",
   "metadata": {},
   "outputs": [],
   "source": []
  }
 ],
 "metadata": {
  "kernelspec": {
   "display_name": "Python 3 (ipykernel)",
   "language": "python",
   "name": "python3"
  },
  "language_info": {
   "codemirror_mode": {
    "name": "ipython",
    "version": 3
   },
   "file_extension": ".py",
   "mimetype": "text/x-python",
   "name": "python",
   "nbconvert_exporter": "python",
   "pygments_lexer": "ipython3",
   "version": "3.10.9"
  }
 },
 "nbformat": 4,
 "nbformat_minor": 5
}
